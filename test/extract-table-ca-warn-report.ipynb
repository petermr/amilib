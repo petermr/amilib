import pdfplumber
print(pdfplumber.__version__)
pdf = pdfplumber.open("../pdfs/ca-warn-report.pdf")
p0 = pdf.pages[0]
im = p0.to_image()